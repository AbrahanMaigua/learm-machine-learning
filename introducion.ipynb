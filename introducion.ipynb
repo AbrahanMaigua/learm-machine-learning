{
  "nbformat": 4,
  "nbformat_minor": 0,
  "metadata": {
    "colab": {
      "name": "introducion.ipynb",
      "private_outputs": true,
      "provenance": [],
      "collapsed_sections": [],
      "authorship_tag": "ABX9TyNxfw9S8cTq1uh0RnZEXLmG",
      "include_colab_link": true
    },
    "kernelspec": {
      "name": "python3",
      "display_name": "Python 3"
    },
    "language_info": {
      "name": "python"
    }
  },
  "cells": [
    {
      "cell_type": "markdown",
      "metadata": {
        "id": "view-in-github",
        "colab_type": "text"
      },
      "source": [
        "<a href=\"https://colab.research.google.com/github/leivakuro765/learm-machine-learning/blob/main/introducion.ipynb\" target=\"_parent\"><img src=\"https://colab.research.google.com/assets/colab-badge.svg\" alt=\"Open In Colab\"/></a>"
      ]
    },
    {
      "cell_type": "markdown",
      "source": [
        "# recursos\n",
        "[RECURSOS DE IA PARA PASAR \n",
        "UNA BUENA CUARENTENA \n",
        "EN CASA :) de Dot Csv \n",
        "](https://docs.google.com/document/d/1TSxb0JrjaN4I4vRI7r-XpYuw5DxPdE2EQsCWu5irTYs/edit)\n",
        "\n",
        "## Machine learning python\n",
        "\n",
        "[Ciencias de los datos]( https://www.cienciadedatos.net/machine-learning-python.html\n",
        ")\n",
        "\n",
        "\n",
        "\n",
        "##**numpy **\n",
        "\n",
        "*   [documentacion](https://numpy.org/doc/)\n",
        "*   \n",
        "\n"
      ],
      "metadata": {
        "id": "tCA03bEW5iLs"
      }
    },
    {
      "cell_type": "code",
      "source": [
        "import numpy as np\n"
      ],
      "metadata": {
        "id": "4sbS4tIePLq0"
      },
      "execution_count": null,
      "outputs": []
    },
    {
      "cell_type": "code",
      "source": [
        "\n",
        "a = np.array(['a','b','c','d'], ndmin=2)\n",
        "print(a)\n",
        "# tamallo del array\n",
        "print(a.shape) # este devueve una tupla \n",
        "print(a.size)  # solo devuelve el tamaño total\n"
      ],
      "metadata": {
        "id": "RGAkTPiJPLpd"
      },
      "execution_count": null,
      "outputs": []
    },
    {
      "cell_type": "code",
      "source": [
        "\n",
        "# type\n",
        "\n",
        "print(type(a))\n",
        "print(a.ndim)\n",
        "print(a.dtype)\n"
      ],
      "metadata": {
        "id": "4UIH_g6-PZNt"
      },
      "execution_count": null,
      "outputs": []
    },
    {
      "cell_type": "code",
      "source": [
        "# matrices vidimecional\n",
        "\n",
        "a = np.array([[1,2,3,4],\n",
        "             [5,6,7,8]])"
      ],
      "metadata": {
        "id": "zrv4ABw7PZMF"
      },
      "execution_count": null,
      "outputs": []
    },
    {
      "cell_type": "code",
      "source": [
        "\n",
        "print(a)\n",
        "# covierte el array en (x filas, x colunas )\n",
        "# en una sola fila\n",
        "print(a.flatten())"
      ],
      "metadata": {
        "id": "DJg0MYZFPf2U"
      },
      "execution_count": null,
      "outputs": []
    },
    {
      "cell_type": "code",
      "source": [
        " 1\n",
        "print(a.reshape(4,2))\n",
        "a = a.reshape(4,2)\n",
        "# indexacion matrices multidimencional\n",
        "#            1.fila:colunas, \n",
        "#            2.fila:colunas,\n",
        "#            3.fila:colunas:\n",
        "#             ect\n",
        "print(a[:2,::2])\n",
        "# convierte el un indice megativos hasta imdices \n",
        "# positivos\n",
        "print(a-4)"
      ],
      "metadata": {
        "id": "gNZS306CPg_T"
      },
      "execution_count": null,
      "outputs": []
    },
    {
      "cell_type": "code",
      "source": [
        "import pandas as pd"
      ],
      "metadata": {
        "id": "kCMmTiqXPgyD"
      },
      "execution_count": null,
      "outputs": []
    },
    {
      "cell_type": "code",
      "source": [
        "b = {\n",
        "  \"element\":[\"Alexa\", \"base soundLink\", \"tv\"],\n",
        "  \"price\":[6.99, 1.799, 9.999]\n",
        "}"
      ],
      "metadata": {
        "id": "z7yDUSXzPgoT"
      },
      "execution_count": null,
      "outputs": []
    },
    {
      "cell_type": "code",
      "source": [
        "\n",
        "# sitaxi\n",
        "# pandas.DataFrame(data, index, columns, dtype, copy)\n",
        "# column y row\n",
        "frame = pd.DataFrame(data=b, index=[\"element 1\", \n",
        "                                    \"element 2\",\n",
        "                                    \"element 3\"])\n",
        "fruits = pd.DataFrame([[30, 21]], columns=[\"Apples\", \"Bananas\"])\n",
        "\n",
        "print(frame)\n",
        "\n"
      ],
      "metadata": {
        "id": "nI66c37282PJ"
      },
      "execution_count": null,
      "outputs": []
    },
    {
      "cell_type": "code",
      "source": [
        "# panda Series\n",
        "\n",
        "series = pd.Series([1,2,3,4,5])\n",
        "series\n",
        "# son como las data Framen \n"
      ],
      "metadata": {
        "id": "T7Y9NI51T4FK"
      },
      "execution_count": null,
      "outputs": []
    },
    {
      "cell_type": "code",
      "source": [
        "quantities = ['4 cups', '1 cup', '2 large', '1 can']\n",
        "items = ['Flour', 'Milk', 'Eggs', 'Spam']\n",
        "ing = pd.Series(quantities, index=items, name='Dinner')\n",
        "\n",
        "ing"
      ],
      "metadata": {
        "id": "Nyxjzp2pT4DU"
      },
      "execution_count": null,
      "outputs": []
    }
  ]
}