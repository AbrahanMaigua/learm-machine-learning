{
  "nbformat": 4,
  "nbformat_minor": 0,
  "metadata": {
    "colab": {
      "name": "red_neuronal.ipynb",
      "private_outputs": true,
      "provenance": [],
      "collapsed_sections": [],
      "authorship_tag": "ABX9TyNzEasbpt+XSGEvTawR/tg4"
    },
    "kernelspec": {
      "name": "python3",
      "display_name": "Python 3"
    },
    "language_info": {
      "name": "python"
    }
  },
  "cells": [
    {
      "cell_type": "code",
      "source": [
        "import numpy as np\n",
        "import tensorflow as tf\n",
        "from tensorflow import keras"
      ],
      "metadata": {
        "id": "NaV1pwxqhyA8"
      },
      "execution_count": null,
      "outputs": []
    },
    {
      "cell_type": "code",
      "source": [
        "def celsio2fahrenhet(cels):\n",
        "  return (cels * 9/5) + 32\n",
        "\n",
        "celsio2fahrenhet(46.4)\n",
        "  "
      ],
      "metadata": {
        "id": "TwOptxYNpzTI"
      },
      "execution_count": null,
      "outputs": []
    },
    {
      "cell_type": "code",
      "execution_count": null,
      "metadata": {
        "id": "_xeWoLX1guKe"
      },
      "outputs": [],
      "source": [
        "celsius = np.array([-40, -10, 0, 8, 15, 22, 38], dtype=float)\n",
        "fahrenheit = np.array([-40, 14, 32, 46, 59, 72, 100], dtype=float)"
      ]
    },
    {
      "cell_type": "code",
      "source": [
        "\"\"\" las capas Dense une todas las capas con todas son inmutables \"\"\"\n",
        "capa1 = keras.layers.Dense(units=1, input_shape=[1])\n",
        "modelo = keras.Sequential([capa1])"
      ],
      "metadata": {
        "id": "AUp5F6LYji5T"
      },
      "execution_count": null,
      "outputs": []
    },
    {
      "cell_type": "code",
      "source": [
        "modelo.compile(\n",
        "    optimizer=tf.keras.optimizers.Adam(0.1),\n",
        "    loss='mean_squared_error'\n",
        ")\n"
      ],
      "metadata": {
        "id": "G3g-VkAUji3d"
      },
      "execution_count": null,
      "outputs": []
    },
    {
      "cell_type": "code",
      "source": [
        "# epochs son el numero de vuelta que realizara el mmodelo para detetar qu \n",
        "# que peso darle a cada elementos\n",
        "print('start')\n",
        "his = modelo.fit(celsius, fahrenheit, epochs=650, verbose=False )\n",
        "print('end fit')\n"
      ],
      "metadata": {
        "id": "fsDWIssZnISD"
      },
      "execution_count": null,
      "outputs": []
    },
    {
      "cell_type": "code",
      "source": [
        "import matplotlib.pyplot as plt\n",
        "plt.xlabel(\"# Epoca\")\n",
        "plt.ylabel(\"Magnitud de pérdida\")\n",
        "plt.plot(his.history[\"loss\"])"
      ],
      "metadata": {
        "id": "Jyo_d6XfpTXo"
      },
      "execution_count": null,
      "outputs": []
    },
    {
      "cell_type": "code",
      "source": [
        "rest = modelo.predict([100])\n",
        "print(f'algorimo tradiconal vs Machine learn')\n",
        "print(f'{celsio2fahrenhet(100)} vs {rest}')\n"
      ],
      "metadata": {
        "id": "IjjvUYG1LfSK"
      },
      "execution_count": null,
      "outputs": []
    },
    {
      "cell_type": "code",
      "source": [
        "print('Variables internas ')\n",
        "\n",
        "print(capa1.get_weights())"
      ],
      "metadata": {
        "id": "2uAVoMouLfQY"
      },
      "execution_count": null,
      "outputs": []
    },
    {
      "cell_type": "markdown",
      "source": [
        "la red neuronal intenamente hace lo siguite:\n",
        "\n",
        "1. toma loa datos de entrada \n",
        "2. multiplica eso datos de entrada por 1.798 \n",
        "3. luego de hacer esa multiplicacion le suma 31.9\n",
        "\n",
        "100 * 1.798 = 179.8 + 31 = 211.74\n",
        "\n",
        "llegando muy cerca de el resultado real "
      ],
      "metadata": {
        "id": "M1wj7yElPk2l"
      }
    },
    {
      "cell_type": "code",
      "source": [
        ""
      ],
      "metadata": {
        "id": "R-IjKAAxPJku"
      },
      "execution_count": null,
      "outputs": []
    },
    {
      "cell_type": "markdown",
      "source": [
        "programacion regular vs ML \n"
      ],
      "metadata": {
        "id": "w0uT1pSvhDr6"
      }
    }
  ]
}