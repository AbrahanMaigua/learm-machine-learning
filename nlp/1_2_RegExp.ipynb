{
  "nbformat": 4,
  "nbformat_minor": 0,
  "metadata": {
    "colab": {
      "name": "1.2_RegExp.ipynb",
      "private_outputs": true,
      "provenance": [],
      "authorship_tag": "ABX9TyN78f3NqtZIlXMONc8B9Hfm",
      "include_colab_link": true
    },
    "kernelspec": {
      "name": "python3",
      "display_name": "Python 3"
    },
    "language_info": {
      "name": "python"
    }
  },
  "cells": [
    {
      "cell_type": "markdown",
      "metadata": {
        "id": "view-in-github",
        "colab_type": "text"
      },
      "source": [
        "<a href=\"https://colab.research.google.com/github/AbrahanMaigua/learm-machine-learning/blob/main/nlp/1_2_RegExp.ipynb\" target=\"_parent\"><img src=\"https://colab.research.google.com/assets/colab-badge.svg\" alt=\"Open In Colab\"/></a>"
      ]
    },
    {
      "cell_type": "markdown",
      "source": [
        "###Expresiones regulares (RegExp)\n",
        "\n",
        "Nos encanta crear patrones para simplificar a la hora de expresarnos.\n",
        "en las computadora esos patrones se les conoce como expresiones regulares, se les utilizan para buscar en un texto patrones de texto como por ejemplo,\n",
        "* corres: nombredeusario@dominio.com\n",
        "* fechas: mm/dd/aaaa\n",
        "* extraer datos: $000.00\n",
        "\n",
        "o para crear buscadores por ejemplo si en un Google chrome pulsa `ctrl + f`  aparecerá una barra de búsqueda en la página que estás navegado es un buscador simple de palabras, entre muchos de patrones que podemos crear para extraer información o para limpiar el texto que extraemos sin perder información importante."
      ],
      "metadata": {
        "id": "Ionlo1hjbZCg"
      }
    },
    {
      "cell_type": "markdown",
      "source": [
        "### Historia\n",
        " \n",
        "el conceptofue implimentado por [`Stephen Cole Kleene`](https://en.wikipedia.org/wiki/Stephen_Cole_Kleene) un Matemático  Americano en \n",
        "1950 pero se empezaron a ser popular su uso en 1968 su uso fue mayor mente utilizado en búsquedas en editores de texto y en análisis de léxico en compiladores siendo utilizado en compiladores en tiempo de ejecución en 1970 fueron incluido en sistemas operativos unix\n",
        " \n",
        "En la actualidad las expresiones regulares están como paquetes estándar en muchos lenguajes de programación."
      ],
      "metadata": {
        "id": "VNzlDNY56rv7"
      }
    },
    {
      "cell_type": "code",
      "execution_count": null,
      "metadata": {
        "id": "_cvEDJbdbPzY"
      },
      "outputs": [],
      "source": [
        "# en python hay un libreria de expreciones regulares \n",
        "# https://docs.python.org/3/library/re.html\n",
        "import re\n",
        "\n",
        "doc = \"\"\"Los Gatos son las mascotas más populares en todo el mundo.\n",
        "A pesar de estar domesticados, los gatos comparten todas las características\n",
        "de los gatos salvajes con los que se les relaciona: son fuertes, ágiles,\n",
        "dotados de grandes reflejos, sentidos aguzados e instinto cazador,\n",
        "además de tener la personalidad fuerte e individualista que les caracteriza. \n",
        "\"\"\"\n",
        "print(doc)"
      ]
    },
    {
      "cell_type": "code",
      "source": [
        " \n",
        "# buscará en el texto tadas con sidencias con gatos en el texto\n",
        "pattern = r'gatos'\n",
        "re.findall(pattern, doc)\n",
        "# si ves en el texto verás que hay la palabra gatos \n",
        "# se repite 3 veces pero en la salida solo hay dos \n",
        "# esto se debe que en el hay una variación en el en \n",
        "# las palabras Gatos y gatos \n"
      ],
      "metadata": {
        "id": "2RVXkqToGhcF"
      },
      "execution_count": null,
      "outputs": []
    },
    {
      "cell_type": "markdown",
      "source": [
        " \n",
        "si una palabra tiene variación podemo utilizar un Grupos para definir esa variaciones Ejemplo:\n",
        " \n",
        "gato o Gato son la misma palabra pero con una variación de mayúsculas esa variación la podemos definir con un grupos\n"
      ],
      "metadata": {
        "id": "W73JiKZIJqiN"
      }
    },
    {
      "cell_type": "code",
      "source": [
        "# Los grupos en paython se define con []\n",
        "pattern = r'[Gg]atos'\n",
        "re.findall(pattern, doc)"
      ],
      "metadata": {
        "id": "T4JyaHv8IVif"
      },
      "execution_count": null,
      "outputs": []
    },
    {
      "cell_type": "markdown",
      "source": [
        "pero cómo buscas variaciones que se que un carácter se repiten más de una vez existen caracteres especiales que resuelven este y otros problemas que puede haber en un texto \n",
        " \n",
        "* . (punto) modo por defecto en la busade de catéteres condice con todos los caracteres excepto con los saltos de líneas\n",
        " \n",
        "* ^ coinciden los caracteres que inicia del texto\n",
        "* $ coincidencia al final del texto\n",
        "* \\* coincide con el texto que se repita más de 0 veces \n",
        "* \\+ coincide con el texto que se repita 1 veces o más repeticiones\n",
        " \n",
        "* ? busca 0 o 1 coincidencia en el texto\n",
        "* \\*?, +?, ?? puedes mezclar más de un catéter especial y sacarle mejor proche\n",
        "* {M} Especifica que exactamente m copias del anterior\n",
        "* {m,n} especifica coincidencia de m a n\n",
        "* \\ Cualquiera de los caracteres especiales de escape ejemplo \\?,\\*\n",
        "* | coincide donde aparece A y B , A o B\n",
        "* (...) Coincide con cualquier expresión regular que esté dentro de los paréntesis se indica el inicio y el final de un grupo; el contenido de un grupo se puede recuperar después de que se haya realizado una coincidencia y se puede hacer coincidir más adelante en la cadena con la secuencia especial \\number, que se describe a continuación. Para hacer coincidir los literales '(' o ')', use \\( o \\), o encierrenlos dentro de una clase de caracteres: [(], [)].\n",
        " \n",
        "en la documentadion  del modulo [re](https://docs.python.org/3/library/re.html) muestra mas detalles sobre esta y otros tipos de carácter especiales\n"
      ],
      "metadata": {
        "id": "Vi-pWLKsOHVh"
      }
    },
    {
      "cell_type": "code",
      "source": [
        "# bsuca todas las palabras que termine con os\n",
        "pattern = r'[A-Za-z]*os'\n",
        "re.findall(pattern, doc)"
      ],
      "metadata": {
        "id": "mPfHyMhbOGla"
      },
      "execution_count": null,
      "outputs": []
    },
    {
      "cell_type": "markdown",
      "source": [
        "habrás notado que si escribes un patrón simple como `[a-zA-z]` solo coincide con todos los caracteres en vez de las palabras sin espacios esto se debe a que findall busca todas las coincidencias de un único patron esto quiere decir que solo quieres recatar un solo carrater no un patron"
      ],
      "metadata": {
        "id": "1FBh9Pccs7jc"
      }
    },
    {
      "cell_type": "code",
      "source": [
        "sl = ' Hola, Holaaaaa holaaa'\n",
        "pattern = r'[Hh]ola*'\n",
        "re.findall(pattern, sl)"
      ],
      "metadata": {
        "id": "ewOJBrkquZ1f"
      },
      "execution_count": null,
      "outputs": []
    },
    {
      "cell_type": "code",
      "source": [
        "sl = ' Hola, Holaaaaa holaaa'\n",
        "pattern = r'[Hh]ola{3}'\n",
        "re.findall(pattern, sl)\n",
        "# en la salida notamos que salen dos indices ya que los dos conciden\n",
        "# al tener mas de 3 'a'"
      ],
      "metadata": {
        "id": "BRlPNuhLvQu_"
      },
      "execution_count": null,
      "outputs": []
    },
    {
      "cell_type": "code",
      "source": [
        "pattern = r''\n",
        "re.findall(pattern, sl)"
      ],
      "metadata": {
        "id": "VrYdIdOZvarD"
      },
      "execution_count": null,
      "outputs": []
    },
    {
      "cell_type": "code",
      "source": [
        "# rescata la url d\n",
        "url = '''en el busquedor de google:\n",
        "https://www.google.com.fr/imghp?hl=fr&ogbl puedes encotrar imagenes'''\n",
        "\n",
        "pattern = r''\n",
        "re.findall(pattern, url)"
      ],
      "metadata": {
        "id": "UDMOeqH2x7tP"
      },
      "execution_count": null,
      "outputs": []
    },
    {
      "cell_type": "code",
      "source": [
        "rest = 'la cuentas es de: $1200.28 puede pagar en efetivo o tarjeta de credito'\n",
        "pattern = '\\$[0-9]+\\.[0-9]+'\n",
        "re.findall(pattern, rest)"
      ],
      "metadata": {
        "id": "jPucV0_7846s"
      },
      "execution_count": null,
      "outputs": []
    }
  ]
}