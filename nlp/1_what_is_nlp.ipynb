{
  "nbformat": 4,
  "nbformat_minor": 0,
  "metadata": {
    "colab": {
      "name": "1-what is nlp.ipynb",
      "private_outputs": true,
      "provenance": [],
      "collapsed_sections": [],
      "authorship_tag": "ABX9TyM1DfcCh2S2JuxA0LrKO5H5",
      "include_colab_link": true
    },
    "kernelspec": {
      "name": "python3",
      "display_name": "Python 3"
    },
    "language_info": {
      "name": "python"
    }
  },
  "cells": [
    {
      "cell_type": "markdown",
      "metadata": {
        "id": "view-in-github",
        "colab_type": "text"
      },
      "source": [
        "<a href=\"https://colab.research.google.com/github/leivakuro765/learm-machine-learning/blob/main/nlp/1_what_is_nlp.ipynb\" target=\"_parent\"><img src=\"https://colab.research.google.com/assets/colab-badge.svg\" alt=\"Open In Colab\"/></a>"
      ]
    },
    {
      "cell_type": "markdown",
      "source": [
        "#### inspiración\n",
        "[Fast.ai  - curse nlp github](https://github.com/fastai/course-nlp/blob/master/1-what-is-nlp.ipynb)\n",
        "### ***Introducción***\n",
        " \n",
        "una computadora aprende el lenguaje humano como un traductor aprende un nuevo idioma las computadoras realizan un proceso parecido **para lograr entender**  lo que quiere realizar el usuario.\n",
        " \n",
        "### **¿Cómo entienden las computadoras el lenguaje humano?** \n",
        " \n",
        "los idiomas están llenos de reglas y excepciones en las cuales el idomas es flexible, intentar apretar toda la complejidad de un idioma se muy caótico llevaría mucho tiempos y recurso pero como alguna empresa han logrado que una computadora logre entender el lenguaje humano como:\n",
        "* **Google**\n",
        "  * motores de búsquedas\n",
        "  * Traductores\n",
        "  * LaMDA \n",
        "  * Google Assistente\n",
        "* **OpenAI**\n",
        "  * GPT-3\n",
        "  * DALL-E 2\n",
        " \n",
        "esto lo lograron utilizando diferentes técnicas para lograr entender los idiomas\n",
        "este proceso de entender el lenguaje humano se conoce como Natural Language Processing (NLP) \n",
        " \n",
        "### [Casos en los que se utilizan el nlp](https://en.wikipedia.org/wiki/Natural_language_processing#Common_NLP_tasks)\n",
        "* Part of speech tagging\n",
        "* Named entity recognition\n",
        "* Question Answering\n",
        "* Speech Recognition\n",
        "* Text to speech and Speech to Text \n",
        "* sentiment Classification\n",
        "* Language Modeling\n",
        "* Translation\n",
        "* autocorrectores\n",
        "* chatbot \n",
        "* asistententes virtuales \n",
        "* generación de resumen"
      ],
      "metadata": {
        "id": "RUKl22fKZa64"
      }
    },
    {
      "cell_type": "code",
      "execution_count": null,
      "metadata": {
        "id": "d7a6gp0hYj-Z"
      },
      "outputs": [],
      "source": [
        ""
      ]
    }
  ]
}