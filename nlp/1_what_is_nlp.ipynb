{
  "nbformat": 4,
  "nbformat_minor": 0,
  "metadata": {
    "colab": {
      "name": "1-what is nlp.ipynb",
      "private_outputs": true,
      "provenance": [],
      "collapsed_sections": [],
      "authorship_tag": "ABX9TyMeTz8LwetacggyxW9gIQeg",
      "include_colab_link": true
    },
    "kernelspec": {
      "name": "python3",
      "display_name": "Python 3"
    },
    "language_info": {
      "name": "python"
    }
  },
  "cells": [
    {
      "cell_type": "markdown",
      "metadata": {
        "id": "view-in-github",
        "colab_type": "text"
      },
      "source": [
        "<a href=\"https://colab.research.google.com/github/leivakuro765/learm-machine-learning/blob/main/DL/1_what_is_nlp.ipynb\" target=\"_parent\"><img src=\"https://colab.research.google.com/assets/colab-badge.svg\" alt=\"Open In Colab\"/></a>"
      ]
    },
    {
      "cell_type": "markdown",
      "source": [
        "#### impiracion\n",
        "[Fast.ai  - curse nlp github](https://github.com/fastai/course-nlp/blob/master/1-what-is-nlp.ipynb)\n",
        "### ***Introducion***\n",
        "\n",
        "una computadora aprende el lenguaje huamano como un traductor aprende un nuevo idioma las computadoras realizan un porseso párecido **para lograr enteder**  lo que quiere realizar el usuario.\n",
        "\n",
        "### **Como entiende las Computadoras el lenguaje humano?** \n",
        "\n",
        "los idomas estan llenos de reglas y execiones en las cuales el idomas es flecible, intentar repretar toda la complegida de un idioma se muy caotico llevaria mucho timpos y recurso pero como alguna empresa han logado que una computadora logre enteder el leguage humano como:\n",
        "* **Google**\n",
        "  * motores de busquedas\n",
        "  * Traductores\n",
        "  * LaMDA \n",
        "  * Google Assistente\n",
        "* **OpenAI**\n",
        "  * GPT-3\n",
        "  * DALL-E 2\n",
        "\n",
        "esto lo lograron utilizandoo difentes tenicas para lograr entender los idomas\n",
        "este proceso de enteder el lenguaje humano se coloce como Natural Lenguage Processing (NLP) \n",
        "\n",
        "### [Casos en los que se utilizan el nlp](https://en.wikipedia.org/wiki/Natural_language_processing#Common_NLP_tasks)\n",
        "* Part of speech tagging\n",
        "* Named entry recognition\n",
        "* Question Answering\n",
        "* Speech Reconition\n",
        "* Text to speech and Speech to Text \n",
        "* sentiment Classification\n",
        "* Language Modeling\n",
        "* Traslation\n",
        "* autocorretores\n",
        "* chatbot \n",
        "* assitententes virtuales \n",
        "* generacion de resumen\n"
      ],
      "metadata": {
        "id": "RUKl22fKZa64"
      }
    },
    {
      "cell_type": "code",
      "execution_count": null,
      "metadata": {
        "id": "d7a6gp0hYj-Z"
      },
      "outputs": [],
      "source": [
        ""
      ]
    }
  ]
}