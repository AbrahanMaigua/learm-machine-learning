{
  "cells": [
    {
      "cell_type": "markdown",
      "metadata": {
        "colab_type": "text",
        "id": "view-in-github"
      },
      "source": [
        "<a href=\"https://colab.research.google.com/github/leivakuro765/learm-machine-learning/blob/main/regrecionlineal_height_weight.ipynb\" target=\"_parent\"><img src=\"https://colab.research.google.com/assets/colab-badge.svg\" alt=\"Open In Colab\"/></a>"
      ]
    },
    {
      "cell_type": "code",
      "execution_count": null,
      "metadata": {
        "id": "GUWsNr-ozQle"
      },
      "outputs": [],
      "source": [
        "import pandas as pd\n",
        "import numpy as np\n",
        "from sklearn.linear_model import LinearRegression \n",
        "import matplotlib.pyplot as plt"
      ]
    },
    {
      "cell_type": "code",
      "execution_count": null,
      "metadata": {
        "id": "VSrLBUDi17G1"
      },
      "outputs": [],
      "source": [
        "size_df = pd.read_csv('../dataset/height_weight.csv')\n",
        "size_df.head(5)"
      ]
    },
    {
      "cell_type": "code",
      "execution_count": null,
      "metadata": {
        "id": "RKyflKEz-N_8"
      },
      "outputs": [],
      "source": [
        "size_df['Weight'] = size_df['Weight'].astype('int')\n",
        "size_df['Height'] = size_df['Height'].astype('int')\n"
      ]
    },
    {
      "cell_type": "code",
      "execution_count": null,
      "metadata": {
        "id": "c4ZGCbaD_aLb"
      },
      "outputs": [],
      "source": [
        "size_df.head(1)"
      ]
    },
    {
      "cell_type": "code",
      "execution_count": null,
      "metadata": {
        "id": "lAsM8Bwi2I3C"
      },
      "outputs": [],
      "source": [
        "size_df.info()"
      ]
    },
    {
      "cell_type": "code",
      "execution_count": null,
      "metadata": {
        "id": "3sINphVK2bjZ"
      },
      "outputs": [],
      "source": [
        "size_df.Sex.value_counts()"
      ]
    },
    {
      "cell_type": "code",
      "execution_count": null,
      "metadata": {
        "id": "DHLLB-883V5j"
      },
      "outputs": [],
      "source": []
    },
    {
      "cell_type": "code",
      "execution_count": null,
      "metadata": {
        "id": "oxYBdjrj2vRK"
      },
      "outputs": [],
      "source": [
        "size_df[['Height', 'Weight']].plot.scatter(x='Height', y='Weight')\n",
        "plt.show()"
      ]
    },
    {
      "cell_type": "code",
      "execution_count": null,
      "metadata": {
        "id": "458k791b45_3"
      },
      "outputs": [],
      "source": [
        "# initalizar el modelo de regrecion lineal\n",
        "regr = LinearRegression()\n",
        "regr.fit(size_df[['Height']] ,size_df['Weight'])"
      ]
    },
    {
      "cell_type": "code",
      "execution_count": null,
      "metadata": {
        "id": "H6SOW0vk8mUC"
      },
      "outputs": [],
      "source": [
        "regr.predict([['175']])"
      ]
    },
    {
      "cell_type": "code",
      "execution_count": null,
      "metadata": {
        "id": "bw52Be8i6qOs"
      },
      "outputs": [],
      "source": [
        "regr.predict(size_df[['Height']])"
      ]
    },
    {
      "cell_type": "code",
      "execution_count": null,
      "metadata": {
        "id": "3Gai04QF8IuK"
      },
      "outputs": [],
      "source": [
        "predic = pd.Series(regr.predict(size_df[['Height']]))\n",
        "size_df['prediccion'] = predic\n",
        "size_df.head(5)"
      ]
    },
    {
      "cell_type": "code",
      "execution_count": null,
      "metadata": {
        "id": "H6x40zim9_DX"
      },
      "outputs": [],
      "source": [
        "ax = size_df.plot.line(x=\"Height\", y=\"prediccion\")\n",
        "size_df[['Height', 'Weight']].plot.scatter(x='Height', y='Weight', ax=ax,color='#2d0c62', figsize=(12, 7))\n",
        "plt.show()"
      ]
    },
    {
      "cell_type": "code",
      "execution_count": null,
      "metadata": {
        "id": "Hxgp8IssAq2k"
      },
      "outputs": [],
      "source": []
    }
  ],
  "metadata": {
    "colab": {
      "authorship_tag": "ABX9TyNVrkO7iwwFVykSD8SBP/qe",
      "collapsed_sections": [],
      "include_colab_link": true,
      "name": "regrecionlineal_height_weight.ipynb",
      "private_outputs": true,
      "provenance": [],
      "toc_visible": true
    },
    "interpreter": {
      "hash": "23b4a3e8622309bcc6db3d5cc6eb73d60ab98d9ec23bad6a26b709981ccb403a"
    },
    "kernelspec": {
      "display_name": "Python 3.9.12 64-bit (windows store)",
      "language": "python",
      "name": "python3"
    },
    "language_info": {
      "codemirror_mode": {
        "name": "ipython",
        "version": 3
      },
      "file_extension": ".py",
      "mimetype": "text/x-python",
      "name": "python",
      "nbconvert_exporter": "python",
      "pygments_lexer": "ipython3",
      "version": "3.9.12"
    }
  },
  "nbformat": 4,
  "nbformat_minor": 0
}
