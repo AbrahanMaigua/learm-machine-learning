{
  "nbformat": 4,
  "nbformat_minor": 0,
  "metadata": {
    "colab": {
      "name": "PCA",
      "private_outputs": true,
      "provenance": [],
      "collapsed_sections": [],
      "authorship_tag": "ABX9TyO6osoRGCX3jjdIuL20M5Lm",
      "include_colab_link": true
    },
    "kernelspec": {
      "name": "python3",
      "display_name": "Python 3"
    },
    "language_info": {
      "name": "python"
    }
  },
  "cells": [
    {
      "cell_type": "markdown",
      "metadata": {
        "id": "view-in-github",
        "colab_type": "text"
      },
      "source": [
        "<a href=\"https://colab.research.google.com/github/leivakuro765/learm-machine-learning/blob/main/PCA.ipynb\" target=\"_parent\"><img src=\"https://colab.research.google.com/assets/colab-badge.svg\" alt=\"Open In Colab\"/></a>"
      ]
    },
    {
      "cell_type": "code",
      "source": [
        "import pandas as pd\n",
        "import numpy as np\n",
        "import matplotlib.pyplot as plt\n",
        "%matplotlib inline\n",
        "plt.rcParams['figure.figsize'] = (16, 9)\n",
        "plt.style.use('ggplot')\n",
        "from sklearn.decomposition import PCA\n",
        "from sklearn.preprocessing import StandardScaler\n",
        "\n",
        "#cargamos los datos de entrada\n",
        "url = 'https://raw.githubusercontent.com/jbagnato/machine-learning/master/comprar_alquilar.csv'\n",
        "house_df = pd.read_csv(url, sep=',')\n",
        "house_df.tail(10)"
      ],
      "metadata": {
        "id": "zyLaqHPtpf4r"
      },
      "execution_count": null,
      "outputs": []
    },
    {
      "cell_type": "code",
      "source": [
        "# normalizamos los datos\n",
        "scaler = StandardScaler()\n",
        "df = house_df.drop(['comprar'], axis=1) \n",
        "#caculamos la meddia\n",
        "scaler.fit(df)\n",
        "# escaloamos los datos y los nomalizamos \n",
        "X_scaled = scaler.transform(df)"
      ],
      "metadata": {
        "id": "VNh8gzruEjW1"
      },
      "execution_count": null,
      "outputs": []
    },
    {
      "cell_type": "code",
      "source": [
        "# intaciamos PCA\n",
        "pca = PCA(n_components=9)\n",
        "pca.fit(X_scaled)\n",
        "x_pca = pca.transform(X_scaled)\n"
      ],
      "metadata": {
        "id": "M6ahNcOnH7ho"
      },
      "execution_count": null,
      "outputs": []
    },
    {
      "cell_type": "code",
      "source": [
        "print('shepe X_pca: ', x_pca.shape)\n",
        "expl =pca.explained_variance_ \n",
        "print(expl)\n",
        "print('sum: ',sum(expl[0:5]) )\n",
        "\n"
      ],
      "metadata": {
        "id": "ifH0CbuyIz77"
      },
      "execution_count": null,
      "outputs": []
    },
    {
      "cell_type": "code",
      "source": [
        "# vizualizamo los la acumulacion de variazas\n",
        "plt.plot(np.cumsum(pca.explained_variance_))\n",
        "plt.xlabel('number of components')\n",
        "plt.ylabel('number of components')\n",
        "plt.show()"
      ],
      "metadata": {
        "id": "wCm3SkedJxP8"
      },
      "execution_count": null,
      "outputs": []
    },
    {
      "cell_type": "code",
      "source": [
        "#graficamos en 2 Dimensiones, tomando los 2 primeros componentes principales\n",
        "Xax    = x_pca[:,0]\n",
        "Yax    = x_pca[:,1]\n",
        "labels = house_df['comprar'].values\n",
        "cdict  = {0:'red',1:'green'}\n",
        "labl   = {0:'Alquilar',1:'Comprar'}\n",
        "marker = {0:'+',1:'*'}\n",
        "alpha  = {0:.3, 1:.5}\n",
        "fig,ax = plt.subplots(figsize=(7,5))\n",
        "fig.patch.set_facecolor('white')\n",
        "for l in np.unique(labels):\n",
        "    ix=np.where(labels==l)\n",
        "    ax.scatter(Xax[ix],Yax[ix],c=cdict[l],label=labl[l],s=40,marker=marker[l],alpha=alpha[l])\n",
        "\n",
        "plt.xlabel(\"First Principal Component\",fontsize=14)\n",
        "plt.ylabel(\"Second Principal Component\",fontsize=14)\n",
        "plt.legend()\n",
        "plt.show()"
      ],
      "metadata": {
        "id": "Vpu1FvyWKs3j"
      },
      "execution_count": null,
      "outputs": []
    },
    {
      "cell_type": "code",
      "source": [
        ""
      ],
      "metadata": {
        "id": "31oyIaqfOCjY"
      },
      "execution_count": null,
      "outputs": []
    }
  ]
}