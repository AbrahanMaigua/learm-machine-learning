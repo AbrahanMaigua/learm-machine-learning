{
  "cells": [
    {
      "cell_type": "markdown",
      "metadata": {},
      "source": [
        "Como funciona K-Means\n",
        "\n",
        "El algoritmo trabaja iterativamente para asignar a cada “punto” (las filas de nuestro conjunto de entrada forman una coordenada) uno de los “K” grupos basado en sus características. Son agrupados en base a la similitud de sus features (las columnas). Como resultado de ejecutar el algoritmo tendremos:\n",
        "\n",
        "\n",
        "* Los “centroids” de cada grupo que serán unas “coordenadas” de cada uno de los K conjuntos que se utilizarán para poder etiquetar nuevas muestras.\n",
        "* Etiquetas para el conjunto de datos de entrenamiento. Cada etiqueta perteneciente a uno de los K grupos formados.\n",
        "\n",
        "Los grupos se van definiendo de manera “orgánica”, es decir que se va ajustando su posición en cada iteración del proceso, hasta que converge el algoritmo. Una vez hallados los centroids deberemos analizarlos para ver cuales son sus características únicas, frente a la de los otros grupos. Estos grupos son las etiquetas que genera el algoritmo.\n"
      ]
    },
    {
      "cell_type": "markdown",
      "metadata": {},
      "source": [
        "casos de uso \n",
        "\n",
        "* sementacion\n",
        "* Categorizacion de Inventario \n",
        "* Detetar comportaminto sopechoso "
      ]
    },
    {
      "cell_type": "code",
      "execution_count": null,
      "metadata": {},
      "outputs": [],
      "source": [
        "import pandas as pd\n",
        "import numpy as np\n",
        "import seaborn as sb\n",
        "import matplotlib.pyplot as plt\n",
        "from sklearn.cluster import KMeans\n",
        "from sklearn.metrics import pairwise_distances_argmin_min as pws\n",
        "\n",
        "%matplotlib inline\n",
        "from mpl_toolkits.mplot3d import Axes3D\n",
        "\n",
        "plt.rcParams['figure.figsize'] = (16, 9)\n",
        "plt.style.use('ggplot')"
      ]
    },
    {
      "cell_type": "code",
      "execution_count": null,
      "metadata": {},
      "outputs": [],
      "source": [
        "df = pd.read_csv('../dataset/analisis.csv')\n",
        "df.head()"
      ]
    },
    {
      "cell_type": "markdown",
      "metadata": {},
      "source": [
        "# Exploramos lo datos\n",
        "este data set contiene las siguite descricion:\n",
        "\n",
        "* usuario (el nombre en Twitter)\n",
        "* “op” = Openness to experience – grado de apertura mental a nuevas experiencias, curiosidad, arte\n",
        "* “co” =Conscientiousness – grado de orden, prolijidad, * organización\n",
        "* “ex” = Extraversion – grado de timidez, solitario o * participación ante el grupo social\n",
        "* “ag” = Agreeableness – grado de empatía con los demás, temperamento\n",
        "* “ne” = Neuroticism, – grado de neuroticismo, nervioso, irritabilidad, seguridad en sí mismo.\n",
        "* Wordcount – Cantidad promedio de palabras usadas en sus tweets\n",
        "* Categoria – Actividad laboral del usuario (actor, cantante, etc.)\n",
        "\n",
        "este arcgivo contiene 9 actividades laborales\n",
        "1.Actor/actriz\n",
        "2.Cantante\n",
        "3.Modelo\n",
        "4.Tv, series\n",
        "5.Radio\n",
        "6.Tecnología\n",
        "7.Deportes\n",
        "8.Politica\n",
        "9.Escritor"
      ]
    },
    {
      "cell_type": "code",
      "execution_count": null,
      "metadata": {},
      "outputs": [],
      "source": [
        "df.describe()"
      ]
    },
    {
      "cell_type": "code",
      "execution_count": null,
      "metadata": {},
      "outputs": [],
      "source": [
        "df.groupby('categoria').size()"
      ]
    },
    {
      "cell_type": "markdown",
      "metadata": {},
      "source": [
        "#visualizamos lo datos "
      ]
    },
    {
      "cell_type": "code",
      "execution_count": null,
      "metadata": {},
      "outputs": [],
      "source": [
        "df.drop(['categoria'], 1).hist()\n",
        "plt.show()"
      ]
    },
    {
      "cell_type": "code",
      "execution_count": null,
      "metadata": {},
      "outputs": [],
      "source": [
        "sb.pairplot(df.dropna(), hue='categoria',size=4,vars=[\"op\",\"ex\",\"ag\"],kind='scatter')"
      ]
    },
    {
      "cell_type": "code",
      "execution_count": null,
      "metadata": {},
      "outputs": [],
      "source": [
        "#Para el ejercicio, sólo seleccionamos 3 dimensiones, para poder graficarlo\n",
        "X = np.array(df[[\"op\",\"ex\",\"ag\"]])\n",
        "y = np.array(df['categoria'])\n",
        "X.shape"
      ]
    },
    {
      "cell_type": "code",
      "execution_count": null,
      "metadata": {},
      "outputs": [],
      "source": []
    },
    {
      "cell_type": "code",
      "execution_count": null,
      "metadata": {},
      "outputs": [],
      "source": [
        "fig = plt.figure()\n",
        "ax = Axes3D(fig)\n",
        "colores= ['blue',\n",
        "          'red',\n",
        "          'green',\n",
        "          'blue',\n",
        "          'cyan',\n",
        "          'yellow',\n",
        "          'orange',\n",
        "          'black',\n",
        "          'pink',\n",
        "          'brown',\n",
        "          'purple']\n",
        "asignar= []\n",
        "for row in y:\n",
        "    asignar.append(colores[row])\n",
        "ax.scatter(X[:, 0], X[:, 1], X[:, 2], c=asignar,s=60)"
      ]
    },
    {
      "cell_type": "markdown",
      "metadata": {},
      "source": [
        "# allemos el valor K"
      ]
    },
    {
      "cell_type": "code",
      "execution_count": null,
      "metadata": {},
      "outputs": [],
      "source": [
        "Nc = range(1, 20)\n",
        "kmeans = [KMeans(n_clusters=i) for i in Nc]\n",
        "kmeans\n",
        "score = [kmeans[i].fit(X).score(X) for i in range(len(kmeans))]\n",
        "score\n",
        "plt.plot(Nc,score)\n",
        "plt.xlabel('Number of Clusters')\n",
        "plt.ylabel('Score')\n",
        "plt.title('Elbow Curve')\n",
        "plt.show()"
      ]
    },
    {
      "cell_type": "code",
      "execution_count": null,
      "metadata": {},
      "outputs": [],
      "source": [
        "# Para el ejercicio, elijo 5 como un buen valor de K. Pero podría ser otro.\n",
        "k = KMeans(n_clusters=5).fit(X)\n",
        "centroids = k.cluster_centers_\n",
        "print(centroids)"
      ]
    },
    {
      "cell_type": "code",
      "execution_count": null,
      "metadata": {},
      "outputs": [],
      "source": []
    },
    {
      "cell_type": "code",
      "execution_count": null,
      "metadata": {},
      "outputs": [],
      "source": [
        "# Obtenemos las etiquetas de cada punto de nuestros datos\n",
        "labels = k.predict(X)\n",
        "# Obtenemos los centroids\n",
        "C = k.cluster_centers_\n",
        "colores=['red','green','blue','cyan','yellow']\n",
        "asignar=[]\n",
        "for row in labels:\n",
        "    asignar.append(colores[row])\n",
        "\n",
        "fig = plt.figure()\n",
        "ax = Axes3D(fig)\n",
        "ax.scatter(X[:, 0], X[:, 1], X[:, 2], c=asignar,s=60)\n",
        "ax.scatter(C[:, 0], C[:, 1], C[:, 2], marker='*', c=colores, s=1000)"
      ]
    },
    {
      "cell_type": "code",
      "execution_count": null,
      "metadata": {},
      "outputs": [],
      "source": [
        "f1 = df['op'].values\n",
        "f2 = df['ex'].values\n",
        "\n",
        "plt.scatter(f1, f2, c=asignar, s=70)\n",
        "plt.scatter(C[:, 0], C[:, 1], marker='*' ,c=colores, s=1000)\n",
        "plt.show()\n"
      ]
    },
    {
      "cell_type": "markdown",
      "metadata": {},
      "source": []
    },
    {
      "cell_type": "code",
      "execution_count": null,
      "metadata": {},
      "outputs": [],
      "source": [
        "# hacemos una proyecion 2d con diverso ejes\n",
        "f1 = df['ex'].values\n",
        "f2 = df['ag'].values\n",
        "\n",
        "plt.scatter(f1, f2, c=asignar, s=70)\n",
        "plt.scatter(C[:, 0], C[:, 2], marker='*' ,c=colores, s=1000)\n",
        "plt.show()\n"
      ]
    },
    {
      "cell_type": "markdown",
      "metadata": {},
      "source": [
        "# allemos el valor K"
      ]
    },
    {
      "cell_type": "code",
      "execution_count": null,
      "metadata": {},
      "outputs": [],
      "source": [
        "# hacemos una proyecion 2d con diverso ejes\n",
        "f1 = df['op'].values\n",
        "f2 = df['ag'].values\n",
        "\n",
        "plt.scatter(f1, f2, c=asignar, s=70)\n",
        "plt.scatter(C[:, 0], C[:, 2], marker='*' ,c=colores, s=1000)\n",
        "plt.show()\n"
      ]
    },
    {
      "cell_type": "code",
      "execution_count": null,
      "metadata": {},
      "outputs": [],
      "source": []
    },
    {
      "cell_type": "code",
      "execution_count": null,
      "metadata": {},
      "outputs": [],
      "source": [
        "fig = plt.figure()\n",
        "ax = Axes3D(fig)\n",
        "colores= ['blue',\n",
        "          'red',\n",
        "          'green',\n",
        "          'blue',\n",
        "          'cyan',\n",
        "          'yellow',\n",
        "          'orange',\n",
        "          'black',\n",
        "          'pink',\n",
        "          'brown',\n",
        "          'purple']\n",
        "asignar= []\n",
        "for row in y:\n",
        "    asignar.append(colores[row])\n",
        "ax.scatter(X[:, 0], X[:, 1], X[:, 2], c=asignar,s=60)"
      ]
    },
    {
      "cell_type": "code",
      "execution_count": null,
      "metadata": {},
      "outputs": [],
      "source": [
        "# contamos cuantos usuarios hay en cada grupo\n",
        "copy =  pd.DataFrame()\n",
        "copy['usuario']=dataframe['usuario'].values\n",
        "copy['categoria']=dataframe['categoria'].values\n",
        "copy['label'] = labels;\n",
        "cantidadGrupo =  pd.DataFrame()\n",
        "cantidadGrupo['color']=colores\n",
        "cantidadGrupo['cantidad']=copy.groupby('label').size()\n",
        "cantidadGrup"
      ]
    },
    {
      "cell_type": "code",
      "execution_count": null,
      "metadata": {},
      "outputs": [],
      "source": []
    }
  ],
  "metadata": {
    "colab": {
      "collapsed_sections": [],
      "name": "introducion.ipynb",
      "private_outputs": true,
      "provenance": []
    },
    "kernelspec": {
      "display_name": "Python 3",
      "name": "python3"
    },
    "language_info": {
      "codemirror_mode": {
        "name": "ipython",
        "version": 3
      },
      "file_extension": ".py",
      "mimetype": "text/x-python",
      "name": "python",
      "nbconvert_exporter": "python",
      "pygments_lexer": "ipython3",
      "version": "3.10.2"
    }
  },
  "nbformat": 4,
  "nbformat_minor": 0
}
